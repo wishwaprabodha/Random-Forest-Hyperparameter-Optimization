{
 "cells": [
  {
   "cell_type": "markdown",
   "metadata": {},
   "source": [
    "1. Title: Zoo database\n",
    "\n",
    "      Class# Set of animals:\n",
    "      ====== ===============================================================\n",
    "           1 (41) aardvark, antelope, bear, boar, buffalo, calf,\n",
    "                  cavy, cheetah, deer, dolphin, elephant,\n",
    "                  fruitbat, giraffe, girl, goat, gorilla, hamster,\n",
    "                  hare, leopard, lion, lynx, mink, mole, mongoose,\n",
    "                  opossum, oryx, platypus, polecat, pony,\n",
    "                  porpoise, puma, pussycat, raccoon, reindeer,\n",
    "                  seal, sealion, squirrel, vampire, vole, wallaby,wolf\n",
    "           2 (20) chicken, crow, dove, duck, flamingo, gull, hawk,\n",
    "                  kiwi, lark, ostrich, parakeet, penguin, pheasant,\n",
    "                  rhea, skimmer, skua, sparrow, swan, vulture, wren\n",
    "           3 (5)  pitviper, seasnake, slowworm, tortoise, tuatara \n",
    "           4 (13) bass, carp, catfish, chub, dogfish, haddock,\n",
    "                  herring, pike, piranha, seahorse, sole, stingray, tuna\n",
    "           5 (4)  frog, frog, newt, toad \n",
    "           6 (8)  flea, gnat, honeybee, housefly, ladybird, moth, termite, wasp\n",
    "           7 (10) clam, crab, crayfish, lobster, octopus,\n",
    "                  scorpion, seawasp, slug, starfish, worm\n",
    "\n",
    "5. Number of Instances: 101\n",
    "\n",
    "6. Number of Attributes: 18 (animal name, 15 Boolean attributes, 2 numerics)\n",
    "\n",
    "7. Attribute Information: (name of attribute and type of value domain)\n",
    "\n",
    "  01. animal name:  Unique for each instance\n",
    "  02. hair\t\t    Boolean\n",
    "  03. feathers\t\tBoolean\n",
    "  04. eggs\t\t    Boolean\n",
    "  05. milk\t\t    Boolean\n",
    "  06. airborne\t\tBoolean\n",
    "  07. aquatic\t\tBoolean\n",
    "  08. predator\t\tBoolean\n",
    "  09. toothed\t\tBoolean\n",
    "  10. backbone\t\tBoolean\n",
    "  11. breathes\t\tBoolean\n",
    "  12. venomous\t\tBoolean\n",
    "  13. fins\t\t    Boolean\n",
    "  14. legs\t\t    Numeric (set of values: {0,2,4,5,6,8})\n",
    "  15. tail\t\t    Boolean\n",
    "  16. domestic\t\tBoolean\n",
    "  17. catsize\t\tBoolean\n",
    "  18. type\t\t    Numeric (integer values in range [1,7])\n",
    "\n",
    "8. Missing Attribute Values: None\n",
    "9. Class Distribution: Given above\n",
    "   "
   ]
  },
  {
   "cell_type": "code",
   "execution_count": 22,
   "metadata": {},
   "outputs": [
    {
     "name": "stderr",
     "output_type": "stream",
     "text": [
      "/home/wishwa/anaconda3/lib/python3.6/site-packages/sklearn/cross_validation.py:41: DeprecationWarning: This module was deprecated in version 0.18 in favor of the model_selection module into which all the refactored classes and functions are moved. Also note that the interface of the new CV iterators are different from that of this module. This module will be removed in 0.20.\n",
      "  \"This module will be removed in 0.20.\", DeprecationWarning)\n"
     ]
    }
   ],
   "source": [
    "import pandas as pd\n",
    "import matplotlib.pyplot as plt\n",
    "import numpy as np\n",
    "\n",
    "# data visualization\n",
    "import seaborn as sns\n",
    "%matplotlib inline\n",
    "from matplotlib import pyplot as plt\n",
    "from matplotlib import style\n",
    "\n",
    "from sklearn import metrics\n",
    "\n",
    "# ML Algorithms\n",
    "from sklearn import linear_model\n",
    "from sklearn.model_selection import train_test_split\n",
    "from sklearn.ensemble import RandomForestClassifier\n",
    "from sklearn.cross_validation import cross_val_score"
   ]
  },
  {
   "cell_type": "code",
   "execution_count": 14,
   "metadata": {},
   "outputs": [],
   "source": [
    "df=pd.read_csv(\"./zoo/zoo.data\") #load train data\n",
    "df.shape\n",
    "dfCopy = df.copy() # make train data copies\n"
   ]
  },
  {
   "cell_type": "code",
   "execution_count": 15,
   "metadata": {},
   "outputs": [
    {
     "data": {
      "text/html": [
       "<div>\n",
       "<style scoped>\n",
       "    .dataframe tbody tr th:only-of-type {\n",
       "        vertical-align: middle;\n",
       "    }\n",
       "\n",
       "    .dataframe tbody tr th {\n",
       "        vertical-align: top;\n",
       "    }\n",
       "\n",
       "    .dataframe thead th {\n",
       "        text-align: right;\n",
       "    }\n",
       "</style>\n",
       "<table border=\"1\" class=\"dataframe\">\n",
       "  <thead>\n",
       "    <tr style=\"text-align: right;\">\n",
       "      <th></th>\n",
       "      <th>name</th>\n",
       "      <th>hair</th>\n",
       "      <th>feathers</th>\n",
       "      <th>eggs</th>\n",
       "      <th>milk</th>\n",
       "      <th>airborne</th>\n",
       "      <th>aquatic</th>\n",
       "      <th>predator</th>\n",
       "      <th>toothed</th>\n",
       "      <th>backbone</th>\n",
       "      <th>breathes</th>\n",
       "      <th>venomous</th>\n",
       "      <th>fins</th>\n",
       "      <th>legs</th>\n",
       "      <th>tail</th>\n",
       "      <th>domestic</th>\n",
       "      <th>catsize</th>\n",
       "      <th>type</th>\n",
       "    </tr>\n",
       "  </thead>\n",
       "  <tbody>\n",
       "    <tr>\n",
       "      <th>0</th>\n",
       "      <td>antelope</td>\n",
       "      <td>1</td>\n",
       "      <td>0</td>\n",
       "      <td>0</td>\n",
       "      <td>1</td>\n",
       "      <td>0</td>\n",
       "      <td>0</td>\n",
       "      <td>0</td>\n",
       "      <td>1</td>\n",
       "      <td>1</td>\n",
       "      <td>1</td>\n",
       "      <td>0</td>\n",
       "      <td>0</td>\n",
       "      <td>4</td>\n",
       "      <td>1</td>\n",
       "      <td>0</td>\n",
       "      <td>1</td>\n",
       "      <td>1</td>\n",
       "    </tr>\n",
       "    <tr>\n",
       "      <th>1</th>\n",
       "      <td>bass</td>\n",
       "      <td>0</td>\n",
       "      <td>0</td>\n",
       "      <td>1</td>\n",
       "      <td>0</td>\n",
       "      <td>0</td>\n",
       "      <td>1</td>\n",
       "      <td>1</td>\n",
       "      <td>1</td>\n",
       "      <td>1</td>\n",
       "      <td>0</td>\n",
       "      <td>0</td>\n",
       "      <td>1</td>\n",
       "      <td>0</td>\n",
       "      <td>1</td>\n",
       "      <td>0</td>\n",
       "      <td>0</td>\n",
       "      <td>4</td>\n",
       "    </tr>\n",
       "    <tr>\n",
       "      <th>2</th>\n",
       "      <td>bear</td>\n",
       "      <td>1</td>\n",
       "      <td>0</td>\n",
       "      <td>0</td>\n",
       "      <td>1</td>\n",
       "      <td>0</td>\n",
       "      <td>0</td>\n",
       "      <td>1</td>\n",
       "      <td>1</td>\n",
       "      <td>1</td>\n",
       "      <td>1</td>\n",
       "      <td>0</td>\n",
       "      <td>0</td>\n",
       "      <td>4</td>\n",
       "      <td>0</td>\n",
       "      <td>0</td>\n",
       "      <td>1</td>\n",
       "      <td>1</td>\n",
       "    </tr>\n",
       "    <tr>\n",
       "      <th>3</th>\n",
       "      <td>boar</td>\n",
       "      <td>1</td>\n",
       "      <td>0</td>\n",
       "      <td>0</td>\n",
       "      <td>1</td>\n",
       "      <td>0</td>\n",
       "      <td>0</td>\n",
       "      <td>1</td>\n",
       "      <td>1</td>\n",
       "      <td>1</td>\n",
       "      <td>1</td>\n",
       "      <td>0</td>\n",
       "      <td>0</td>\n",
       "      <td>4</td>\n",
       "      <td>1</td>\n",
       "      <td>0</td>\n",
       "      <td>1</td>\n",
       "      <td>1</td>\n",
       "    </tr>\n",
       "    <tr>\n",
       "      <th>4</th>\n",
       "      <td>buffalo</td>\n",
       "      <td>1</td>\n",
       "      <td>0</td>\n",
       "      <td>0</td>\n",
       "      <td>1</td>\n",
       "      <td>0</td>\n",
       "      <td>0</td>\n",
       "      <td>0</td>\n",
       "      <td>1</td>\n",
       "      <td>1</td>\n",
       "      <td>1</td>\n",
       "      <td>0</td>\n",
       "      <td>0</td>\n",
       "      <td>4</td>\n",
       "      <td>1</td>\n",
       "      <td>0</td>\n",
       "      <td>1</td>\n",
       "      <td>1</td>\n",
       "    </tr>\n",
       "  </tbody>\n",
       "</table>\n",
       "</div>"
      ],
      "text/plain": [
       "       name  hair  feathers  eggs  milk  airborne  aquatic  predator  toothed  \\\n",
       "0  antelope     1         0     0     1         0        0         0        1   \n",
       "1      bass     0         0     1     0         0        1         1        1   \n",
       "2      bear     1         0     0     1         0        0         1        1   \n",
       "3      boar     1         0     0     1         0        0         1        1   \n",
       "4   buffalo     1         0     0     1         0        0         0        1   \n",
       "\n",
       "   backbone  breathes  venomous  fins  legs  tail  domestic  catsize  type  \n",
       "0         1         1         0     0     4     1         0        1     1  \n",
       "1         1         0         0     1     0     1         0        0     4  \n",
       "2         1         1         0     0     4     0         0        1     1  \n",
       "3         1         1         0     0     4     1         0        1     1  \n",
       "4         1         1         0     0     4     1         0        1     1  "
      ]
     },
     "execution_count": 15,
     "metadata": {},
     "output_type": "execute_result"
    }
   ],
   "source": [
    "dfCopy.columns = ['name', 'hair','feathers','eggs','milk','airborne','aquatic','predator','toothed','backbone','breathes','venomous','fins','legs','tail','domestic','catsize','type']\n",
    "dfCopy.head(5)"
   ]
  },
  {
   "cell_type": "code",
   "execution_count": 16,
   "metadata": {},
   "outputs": [
    {
     "data": {
      "text/plain": [
       "<matplotlib.axes._subplots.AxesSubplot at 0x7f1611a98b38>"
      ]
     },
     "execution_count": 16,
     "metadata": {},
     "output_type": "execute_result"
    },
    {
     "data": {
      "image/png": "[encoded data removed]",
      "text/plain": [
       "<Figure size 432x288 with 1 Axes>"
      ]
     },
     "metadata": {},
     "output_type": "display_data"
    }
   ],
   "source": [
    "sns.barplot(x='legs', y='type', data=dfCopy)"
   ]
  },
  {
   "cell_type": "markdown",
   "metadata": {},
   "source": [
    "### Since there are no missing values or any redundencies in the Dataset, No preprocessing part needed"
   ]
  },
  {
   "cell_type": "code",
   "execution_count": 32,
   "metadata": {},
   "outputs": [],
   "source": [
    "feature_col_names=['hair','feathers','eggs','milk',\n",
    "                   'airborne','aquatic','predator','toothed','backbone','breathes',\n",
    "                   'venomous','fins','legs','tail','domestic','catsize','type']\n",
    "predicted_class_name=['type']\n",
    "X=dfCopy[feature_col_names]\n",
    "y=dfCopy[predicted_class_name]\n",
    "X_train, X_test, y_train, y_test = train_test_split(X,y, test_size=0.5, random_state=42)"
   ]
  },
  {
   "cell_type": "code",
   "execution_count": 33,
   "metadata": {},
   "outputs": [
    {
     "name": "stdout",
     "output_type": "stream",
     "text": [
      "Model Performance\n",
      "Test data Accuracy: 1.0000\n"
     ]
    },
    {
     "name": "stderr",
     "output_type": "stream",
     "text": [
      "/home/wishwa/anaconda3/lib/python3.6/site-packages/ipykernel_launcher.py:4: DataConversionWarning: A column-vector y was passed when a 1d array was expected. Please change the shape of y to (n_samples,), for example using ravel().\n",
      "  after removing the cwd from sys.path.\n"
     ]
    }
   ],
   "source": [
    "\n",
    "\n",
    "rf_model = RandomForestClassifier()      # Create random forest object\n",
    "rf_model.fit(X_train, y_train)\n",
    "\n",
    "rf_predict_train = rf_model.predict(X_train)\n",
    "\n",
    "# training metrics\n",
    "rf_predict_test = rf_model.predict(X_test)\n",
    "\n",
    "print('Model Performance')\n",
    "\n",
    "# training metrics\n",
    "print(\"Test data Accuracy: {0:.4f}\".format(metrics.accuracy_score(y_test, rf_predict_test)))"
   ]
  },
  {
   "cell_type": "code",
   "execution_count": 34,
   "metadata": {},
   "outputs": [
    {
     "name": "stdout",
     "output_type": "stream",
     "text": [
      "Test Accuracy: 0.9000\n"
     ]
    },
    {
     "name": "stderr",
     "output_type": "stream",
     "text": [
      "/home/wishwa/anaconda3/lib/python3.6/site-packages/sklearn/utils/validation.py:578: DataConversionWarning: A column-vector y was passed when a 1d array was expected. Please change the shape of y to (n_samples, ), for example using ravel().\n",
      "  y = column_or_1d(y, warn=True)\n"
     ]
    }
   ],
   "source": [
    "from sklearn.linear_model import LogisticRegression\n",
    "\n",
    "lr_model =LogisticRegression(C=0.5, random_state=42)\n",
    "lr_model.fit(X_train, y_train)\n",
    "lr_predict_train = lr_model.predict(X_train)\n",
    "lr_predict_test = lr_model.predict(X_test)\n",
    "\n",
    "# training metrics\n",
    "print(\"Test Accuracy: {0:.4f}\".format(metrics.accuracy_score(y_test, lr_predict_test)))"
   ]
  },
  {
   "cell_type": "code",
   "execution_count": null,
   "metadata": {},
   "outputs": [],
   "source": []
  }
 ],
 "metadata": {
  "kernelspec": {
   "display_name": "Python 3",
   "language": "python",
   "name": "python3"
  },
  "language_info": {
   "codemirror_mode": {
    "name": "ipython",
    "version": 3
   },
   "file_extension": ".py",
   "mimetype": "text/x-python",
   "name": "python",
   "nbconvert_exporter": "python",
   "pygments_lexer": "ipython3",
   "version": "3.6.5"
  }
 },
 "nbformat": 4,
 "nbformat_minor": 2
}
